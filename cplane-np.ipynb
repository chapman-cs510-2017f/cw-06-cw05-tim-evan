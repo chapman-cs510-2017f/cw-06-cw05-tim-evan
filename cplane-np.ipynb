{
 "cells": [
  {
   "cell_type": "code",
   "execution_count": 38,
   "metadata": {
    "collapsed": false
   },
   "outputs": [
   ],
   "source": [
    "import cplane_np as cp\n",
    "import matplotlib.pyplot as plt\n",
    "import sympy as sp"
   ]
  },
  {
   "cell_type": "markdown",
   "metadata": {
    "collapsed": false
   },
   "source": [
    "# Cplane_np.py Demonstration"
   ]
  },
  {
   "cell_type": "markdown",
   "metadata": {
    "collapsed": false
   },
   "source": [
    "## The Constructor"
   ]
  },
  {
   "cell_type": "code",
   "execution_count": 35,
   "metadata": {
    "collapsed": false
   },
   "outputs": [
    {
     "name": "stdout",
     "output_type": "stream",
     "text": [
      "########################################-Complex Plane-######################################## \n",
      "\n",
      "        -4.0     -3.0     -2.0     -1.0   0.0     1.0     2.0     3.0     4.0\n",
      "4j   (-4+4j)  (-3+4j)  (-2+4j)  (-1+4j)    4j  (1+4j)  (2+4j)  (3+4j)  (4+4j)\n",
      "3j   (-4+3j)  (-3+3j)  (-2+3j)  (-1+3j)    3j  (1+3j)  (2+3j)  (3+3j)  (4+3j)\n",
      "2j   (-4+2j)  (-3+2j)  (-2+2j)  (-1+2j)    2j  (1+2j)  (2+2j)  (3+2j)  (4+2j)\n",
      "1j   (-4+1j)  (-3+1j)  (-2+1j)  (-1+1j)    1j  (1+1j)  (2+1j)  (3+1j)  (4+1j)\n",
      "0j   (-4+0j)  (-3+0j)  (-2+0j)  (-1+0j)    0j  (1+0j)  (2+0j)  (3+0j)  (4+0j)\n",
      "-1j  (-4-1j)  (-3-1j)  (-2-1j)  (-1-1j)   -1j  (1-1j)  (2-1j)  (3-1j)  (4-1j)\n",
      "-2j  (-4-2j)  (-3-2j)  (-2-2j)  (-1-2j)   -2j  (1-2j)  (2-2j)  (3-2j)  (4-2j)\n",
      "-3j  (-4-3j)  (-3-3j)  (-2-3j)  (-1-3j)   -3j  (1-3j)  (2-3j)  (3-3j)  (4-3j)\n",
      "-4j  (-4-4j)  (-3-4j)  (-2-4j)  (-1-4j)   -4j  (1-4j)  (2-4j)  (3-4j)  (4-4j) \n",
      "\n",
      "############################################################################################### \n",
      "\n"
     ]
    }
   ],
   "source": [
    "myPlane = cp.ArrayComplexPlane(-4,4,9,-4,4,9)\n",
    "myPlane.printPlane()"
   ]
  },
  {
   "cell_type": "markdown",
   "metadata": {
    "collapsed": false
   },
   "source": [
    "In the above code, we created the ArrayComplexPlane(xmin,xmax,xlen,ymin,ymax,ylen) object, setting arbituary Plane specifications. in this case, we set it range and domain to\n",
    "    $$ -4 \\ge x \\ge 4 $$\n",
    "    $$ -4 \\ge y \\ge 4 $$\n",
    "with a step sixe of 1 (since the domain spans over 9 integers and xlen = 9 => 9/9 = 1 = step size, symmetric for y step size)"
   ]
  },
  {
   "cell_type": "markdown",
   "metadata": {
    "collapsed": false
   },
   "source": [
    "this is our constructor in python\n",
    "```python\n",
    "def __init__(self,xmin,xmax,xlen,ymin,ymax,ylen):\n",
    "        self.__setPlane(xmin,xmax,xlen,ymin,ymax,ylen)\n",
    "        return\n",
    "\n",
    "def __setPlane(self,xmin,xmax,xlen,ymin,ymax,ylen):\n",
    "        self.xmin  = xmin\n",
    "        self.xmax  = xmax\n",
    "        self.xlen  = xlen\n",
    "        self.ymin  = ymin\n",
    "        self.ymax  = ymax\n",
    "        self.ylen  = ylen\n",
    "        self.fs = []\n",
    "\n",
    "        x = np.linspace(self.xmin,self.xmax,self.xlen)\n",
    "        y = np.linspace(self.ymin,self.ymax,self.ylen)\n",
    "        xx, yy = np.meshgrid(x, y)\n",
    "        self.plane = xx - yy*1j\n",
    "\n",
    "        self.plane = pd.DataFrame(self.plane, index=-y*1j+0, columns=x)\n",
    "\n",
    "        return\n",
    "```\n",
    "in our constructor we call a private funnction called\n",
    "```python\n",
    "__setPlane(self,xmin,xmax,xlen,ymin,ymax,ylen)\n",
    "```\n",
    "where we initialize the rest of our arguments to the given input and initialize self.fs = []. After args are implemented, __setPlane( self, xmin, xmax, xlen, ymin, ymax, ylen ) then implements self.plane by using numpy to create the real and imaginary axis with linspace(), it then creates a meshgrid of the range and  domain and is finally re-represented in complex form. then we use a panda to create the Data frame of self.plane.\n",
    "And finally, our function has no return value and terminates"
   ]
  },
  {
   "cell_type": "markdown",
   "metadata": {
    "collapsed": false
   },
   "source": [
    "## The Apply Function"
   ]
  },
  {
   "cell_type": "code",
   "execution_count": 15,
   "metadata": {
    "collapsed": false
   },
   "outputs": [
    {
     "name": "stdout",
     "output_type": "stream",
     "text": [
      "APPLY f() TO PLANE\n",
      "########################################-Complex Plane-######################################## \n",
      "\n",
      "         -4.0      -3.0       -2.0      -1.0       0.0       1.0        2.0  \\\n",
      "4j       -32j  (-7-24j)  (-12-16j)  (-15-8j)  (-16+0j)  (-15+8j)  (-12+16j)   \n",
      "3j    (7-24j)      -18j   (-5-12j)   (-8-6j)   (-9+0j)   (-8+6j)   (-5+12j)   \n",
      "2j   (12-16j)   (5-12j)        -8j   (-3-4j)   (-4+0j)   (-3+4j)         8j   \n",
      "1j    (15-8j)    (8-6j)     (3-4j)       -2j   (-1+0j)        2j     (3+4j)   \n",
      "0j    (16-0j)    (9-0j)     (4-0j)    (1-0j)        0j    (1+0j)     (4+0j)   \n",
      "-1j   (15+8j)    (8+6j)     (3+4j)        2j   (-1-0j)       -2j     (3-4j)   \n",
      "-2j  (12+16j)   (5+12j)         8j   (-3+4j)   (-4-0j)   (-3-4j)        -8j   \n",
      "-3j   (7+24j)       18j   (-5+12j)   (-8+6j)   (-9-0j)   (-8-6j)   (-5-12j)   \n",
      "-4j       32j  (-7+24j)  (-12+16j)  (-15+8j)  (-16-0j)  (-15-8j)  (-12-16j)   \n",
      "\n",
      "          3.0       4.0  \n",
      "4j   (-7+24j)       32j  \n",
      "3j        18j   (7+24j)  \n",
      "2j    (5+12j)  (12+16j)  \n",
      "1j     (8+6j)   (15+8j)  \n",
      "0j     (9+0j)   (16+0j)  \n",
      "-1j    (8-6j)   (15-8j)  \n",
      "-2j   (5-12j)  (12-16j)  \n",
      "-3j      -18j   (7-24j)  \n",
      "-4j  (-7-24j)      -32j   \n",
      "\n",
      "############################################################################################### \n",
      "\n"
     ]
    }
   ],
   "source": [
    "def f(x):\n",
    "    return x*x\n",
    "\n",
    "myPlane.apply(f,True)\n",
    "print(\"APPLY f() TO PLANE\")\n",
    "myPlane.printPlane()"
   ]
  },
  {
   "cell_type": "markdown",
   "metadata": {
    "collapsed": false
   },
   "source": [
    "in the above code block, we applied f(x) to the plane from the previous example. in this specific case,\n",
    "     $$ f(x) = x^{2} $$\n",
    "to test whether or not this table is the true transformation, lets take element $ -4 + 4j $ from the Plane before the transformation, we see that $ -32j $ is the transformed value in the plane printed above. so\n",
    "$$ (-4 + 4j)^2 = 16 - 16j - 16j + 16j^2 = -32j $$\n",
    "so the transformation f on the complex plane is working correctly"
   ]
  },
  {
   "cell_type": "markdown",
   "metadata": {
    "collapsed": false
   },
   "source": [
    "this is our apply in python\n",
    "```python\n",
    "def apply(self, f, addTofs):\n",
    "        self.fs.append(f)\n",
    "        self.plane = f(self.plane)\n",
    "        return\n",
    "```\n",
    "our apply( self, f ) function appends the value of f to fs .\n",
    "the function then procedes to apply the function to all points in self.plane, and sets self.plane to the new transformed plane. this is done in the line\n",
    "```python\n",
    "self.plane = f(self.plane)\n",
    "```\n",
    "and finally, our function has no return value and terminates"
   ]
  },
  {
   "cell_type": "markdown",
   "metadata": {
    "collapsed": false
   },
   "source": [
    "## The Zoom Function"
   ]
  },
  {
   "cell_type": "code",
   "execution_count": 16,
   "metadata": {
    "collapsed": false
   },
   "outputs": [
    {
     "name": "stdout",
     "output_type": "stream",
     "text": [
      "ZOOMED PLANE\n",
      "########################################-Complex Plane-######################################## \n",
      "\n",
      "       -2.0     -1.0      0.0      1.0     2.0\n",
      "2j      -8j  (-3-4j)  (-4+0j)  (-3+4j)      8j\n",
      "1j   (3-4j)      -2j  (-1+0j)       2j  (3+4j)\n",
      "0j   (4-0j)   (1-0j)       0j   (1+0j)  (4+0j)\n",
      "-1j  (3+4j)       2j  (-1-0j)      -2j  (3-4j)\n",
      "-2j      8j  (-3+4j)  (-4-0j)  (-3-4j)     -8j \n",
      "\n",
      "############################################################################################### \n",
      "\n"
     ]
    }
   ],
   "source": [
    "myPlane.zoom(-2,2,5,-2,2,5)\n",
    "print(\"ZOOMED PLANE\")\n",
    "myPlane.printPlane()"
   ]
  },
  {
   "cell_type": "markdown",
   "metadata": {
    "collapsed": false
   },
   "source": [
    "ater zoom(xmin,xmax,xlen,ymin,ymax,ylen) is applied to the plane, the private attributes of plane are changed to the input values in zoom. All f in fs are then re-applied to the plane, as you can see, the values at each point remain the same relative to the previous example where f was applied to the plane."
   ]
  },
  {
   "cell_type": "markdown",
   "metadata": {
    "collapsed": false
   },
   "source": [
    "this is our zoom in python\n",
    "```python\n",
    "def zoom(self,xmin,xmax,xlen,ymin,ymax,ylen):\n",
    "        self.__setPlane(xmin,xmax,xlen,ymin,ymax,ylen)\n",
    "        for k in range(len(self.fs)):\n",
    "            self.apply(self.fs[k])\n",
    "        return\n",
    "```\n",
    "our function zoom takes in args xmin, xmax, xlen, ymin, ymax, ylen and sets the private args to these values respectively and generating a new plane by calling __setPlane( xmin, xmax, xlen, ymin, ymax, ylen ). then zoom must re-apply all f in fs to the new self.plane. to do this, we used a for loop that it iterates over len( fs )\n",
    "and applys all functions to self.plane using the apply function.\n",
    "and finally, we return and terminate the function."
   ]
  },
  {
   "cell_type": "markdown",
   "metadata": {
    "collapsed": false
   },
   "source": [
    "## The Refresh Function"
   ]
  },
  {
   "cell_type": "code",
   "execution_count": 17,
   "metadata": {
    "collapsed": false
   },
   "outputs": [
    {
     "name": "stdout",
     "output_type": "stream",
     "text": [
      "REFRESHED PLANE\n",
      "########################################-Complex Plane-######################################## \n",
      "\n",
      "        -2.0     -1.0   0.0     1.0     2.0\n",
      "2j   (-2+2j)  (-1+2j)    2j  (1+2j)  (2+2j)\n",
      "1j   (-2+1j)  (-1+1j)    1j  (1+1j)  (2+1j)\n",
      "0j   (-2+0j)  (-1+0j)    0j  (1+0j)  (2+0j)\n",
      "-1j  (-2-1j)  (-1-1j)   -1j  (1-1j)  (2-1j)\n",
      "-2j  (-2-2j)  (-1-2j)   -2j  (1-2j)  (2-2j) \n",
      "\n",
      "############################################################################################### \n",
      "\n"
     ]
    }
   ],
   "source": [
    "myPlane.refresh()\n",
    "print(\"REFRESHED PLANE\")\n",
    "myPlane.printPlane()"
   ]
  },
  {
   "cell_type": "markdown",
   "metadata": {
    "collapsed": false
   },
   "source": [
    "after refresh() is applied to the plane, we see it reverts back to its original state from the first example, but still zoomed in. the method refresh() resets all args and clears fs, so that there are no functions acting on the plane."
   ]
  },
  {
   "cell_type": "markdown",
   "metadata": {
    "collapsed": false
   },
   "source": [
    "this is our refresh in python\n",
    "```python\n",
    "    def refresh(self):\n",
    "        self.__setPlane(self.xmin,self.xmax,self.xlen,self.ymin,self.ymax,self.ylen)\n",
    "        return\n",
    "```\n",
    "since refresh is meant to reset the private args to original vals and set fs = [] and regenerate self.plane, we can call _setPlane(). to keep the private vars static, we input our private vars into _setPlane() so that they are set to themselves. Which does seem redundant to have a public function that does exactly what a private function does. however, refresh() requires no input , and therefore the user cannot change private vars like one could in __setPlane(). the difference is minor, but essential for good design and good object oriented programming.\n",
    "and finally we return and terminate the function"
   ]
  },
  {
   "cell_type": "markdown",
   "metadata": {
    "collapsed": false
   },
   "source": [
    "To achieve the primary state from the first example, we can call zoom to zoom out, as shown below"
   ]
  },
  {
   "cell_type": "code",
   "execution_count": 18,
   "metadata": {
    "collapsed": false
   },
   "outputs": [
    {
     "name": "stdout",
     "output_type": "stream",
     "text": [
      "########################################-Complex Plane-######################################## \n",
      "\n",
      "        -4.0     -3.0     -2.0     -1.0   0.0     1.0     2.0     3.0     4.0\n",
      "4j   (-4+4j)  (-3+4j)  (-2+4j)  (-1+4j)    4j  (1+4j)  (2+4j)  (3+4j)  (4+4j)\n",
      "3j   (-4+3j)  (-3+3j)  (-2+3j)  (-1+3j)    3j  (1+3j)  (2+3j)  (3+3j)  (4+3j)\n",
      "2j   (-4+2j)  (-3+2j)  (-2+2j)  (-1+2j)    2j  (1+2j)  (2+2j)  (3+2j)  (4+2j)\n",
      "1j   (-4+1j)  (-3+1j)  (-2+1j)  (-1+1j)    1j  (1+1j)  (2+1j)  (3+1j)  (4+1j)\n",
      "0j   (-4+0j)  (-3+0j)  (-2+0j)  (-1+0j)    0j  (1+0j)  (2+0j)  (3+0j)  (4+0j)\n",
      "-1j  (-4-1j)  (-3-1j)  (-2-1j)  (-1-1j)   -1j  (1-1j)  (2-1j)  (3-1j)  (4-1j)\n",
      "-2j  (-4-2j)  (-3-2j)  (-2-2j)  (-1-2j)   -2j  (1-2j)  (2-2j)  (3-2j)  (4-2j)\n",
      "-3j  (-4-3j)  (-3-3j)  (-2-3j)  (-1-3j)   -3j  (1-3j)  (2-3j)  (3-3j)  (4-3j)\n",
      "-4j  (-4-4j)  (-3-4j)  (-2-4j)  (-1-4j)   -4j  (1-4j)  (2-4j)  (3-4j)  (4-4j) \n",
      "\n",
      "############################################################################################### \n",
      "\n"
     ]
    }
   ],
   "source": [
    "myPlane.zoom(-4,4,9,-4,4,9)\n",
    "myPlane.printPlane()"
   ]
  },
  {
   "cell_type": "markdown",
   "metadata": {
    "collapsed": false
   },
   "source": [
    "## The Plot"
   ]
  },
  {
   "cell_type": "code",
   "execution_count": 39,
   "metadata": {
    "collapsed": false
   },
   "outputs": [
    {
     "ename": "AttributeError",
     "evalue": "'ArrayComplexPlane' object has no attribute 'getPlane'",
     "output_type": "error",
     "traceback": [
      "\u001b[0;31m---------------------------------------------------------------------------\u001b[0m",
      "\u001b[0;31mAttributeError\u001b[0m                            Traceback (most recent call last)",
      "\u001b[0;32m<ipython-input-39-d6562477841f>\u001b[0m in \u001b[0;36m<module>\u001b[0;34m()\u001b[0m\n\u001b[0;32m----> 1\u001b[0;31m \u001b[0mfig\u001b[0m \u001b[0;34m=\u001b[0m \u001b[0mplt\u001b[0m\u001b[0;34m.\u001b[0m\u001b[0mplot\u001b[0m\u001b[0;34m(\u001b[0m\u001b[0mmyPlane\u001b[0m\u001b[0;34m.\u001b[0m\u001b[0mgetPlane\u001b[0m\u001b[0;34m(\u001b[0m\u001b[0;34m)\u001b[0m\u001b[0;34m)\u001b[0m\u001b[0;34m\u001b[0m\u001b[0m\n\u001b[0m",
      "\u001b[0;31mAttributeError\u001b[0m: 'ArrayComplexPlane' object has no attribute 'getPlane'"
     ]
    }
   ],
   "source": [
    "fig = plt.plot(myPlane.getPlane())"
   ]
  },
  {
   "cell_type": "code",
   "execution_count": 0,
   "metadata": {
    "collapsed": false
   },
   "outputs": [
   ],
   "source": [
   ]
  },
  {
   "cell_type": "code",
   "execution_count": 0,
   "metadata": {
    "collapsed": false
   },
   "outputs": [
   ],
   "source": [
   ]
  }
 ],
 "metadata": {
  "kernelspec": {
   "display_name": "Python 3 (Anaconda)",
   "language": "python",
   "name": "anaconda3"
  },
  "language_info": {
   "codemirror_mode": {
    "name": "ipython",
    "version": 3
   },
   "file_extension": ".py",
   "mimetype": "text/x-python",
   "name": "python",
   "nbconvert_exporter": "python",
   "pygments_lexer": "ipython3",
   "version": "3.5.4"
  }
 },
 "nbformat": 4,
 "nbformat_minor": 0
}