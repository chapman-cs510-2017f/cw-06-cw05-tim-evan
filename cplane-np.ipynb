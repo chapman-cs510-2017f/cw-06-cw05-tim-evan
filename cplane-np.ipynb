{
 "cells": [
  {
   "cell_type": "code",
   "execution_count": 2,
   "metadata": {
    "collapsed": false
   },
   "outputs": [
   ],
   "source": [
    "import cplane_np as cp\n",
    "import numpy as np\n",
    "import matplotlib.pyplot as plt\n",
    "import sympy as sp"
   ]
  },
  {
   "cell_type": "markdown",
   "metadata": {
    "collapsed": false
   },
   "source": [
    "# Cplane_np.py Demonstration"
   ]
  },
  {
   "cell_type": "markdown",
   "metadata": {
    "collapsed": false
   },
   "source": [
    "## The Constructor"
   ]
  },
  {
   "cell_type": "code",
   "execution_count": 5,
   "metadata": {
    "collapsed": false
   },
   "outputs": [
    {
     "name": "stdout",
     "output_type": "stream",
     "text": [
      "########################################-Complex Plane-######################################## \n",
      "\n",
      "        -4.0     -3.0     -2.0     -1.0   0.0     1.0     2.0     3.0     4.0\n",
      "4j   (-4+4j)  (-3+4j)  (-2+4j)  (-1+4j)    4j  (1+4j)  (2+4j)  (3+4j)  (4+4j)\n",
      "3j   (-4+3j)  (-3+3j)  (-2+3j)  (-1+3j)    3j  (1+3j)  (2+3j)  (3+3j)  (4+3j)\n",
      "2j   (-4+2j)  (-3+2j)  (-2+2j)  (-1+2j)    2j  (1+2j)  (2+2j)  (3+2j)  (4+2j)\n",
      "1j   (-4+1j)  (-3+1j)  (-2+1j)  (-1+1j)    1j  (1+1j)  (2+1j)  (3+1j)  (4+1j)\n",
      "0j   (-4+0j)  (-3+0j)  (-2+0j)  (-1+0j)    0j  (1+0j)  (2+0j)  (3+0j)  (4+0j)\n",
      "-1j  (-4-1j)  (-3-1j)  (-2-1j)  (-1-1j)   -1j  (1-1j)  (2-1j)  (3-1j)  (4-1j)\n",
      "-2j  (-4-2j)  (-3-2j)  (-2-2j)  (-1-2j)   -2j  (1-2j)  (2-2j)  (3-2j)  (4-2j)\n",
      "-3j  (-4-3j)  (-3-3j)  (-2-3j)  (-1-3j)   -3j  (1-3j)  (2-3j)  (3-3j)  (4-3j)\n",
      "-4j  (-4-4j)  (-3-4j)  (-2-4j)  (-1-4j)   -4j  (1-4j)  (2-4j)  (3-4j)  (4-4j) \n",
      "\n",
      "############################################################################################### \n",
      "\n"
     ]
    },
    {
     "data": {
      "text/html": [
       "<div>\n",
       "<style>\n",
       "    .dataframe thead tr:only-child th {\n",
       "        text-align: right;\n",
       "    }\n",
       "\n",
       "    .dataframe thead th {\n",
       "        text-align: left;\n",
       "    }\n",
       "\n",
       "    .dataframe tbody tr th {\n",
       "        vertical-align: top;\n",
       "    }\n",
       "</style>\n",
       "<table border=\"1\" class=\"dataframe\">\n",
       "  <thead>\n",
       "    <tr style=\"text-align: right;\">\n",
       "      <th></th>\n",
       "      <th>-4.0</th>\n",
       "      <th>-3.0</th>\n",
       "      <th>-2.0</th>\n",
       "      <th>-1.0</th>\n",
       "      <th>0.0</th>\n",
       "      <th>1.0</th>\n",
       "      <th>2.0</th>\n",
       "      <th>3.0</th>\n",
       "      <th>4.0</th>\n",
       "    </tr>\n",
       "  </thead>\n",
       "  <tbody>\n",
       "    <tr>\n",
       "      <th>4j</th>\n",
       "      <td>(-4+4j)</td>\n",
       "      <td>(-3+4j)</td>\n",
       "      <td>(-2+4j)</td>\n",
       "      <td>(-1+4j)</td>\n",
       "      <td>4j</td>\n",
       "      <td>(1+4j)</td>\n",
       "      <td>(2+4j)</td>\n",
       "      <td>(3+4j)</td>\n",
       "      <td>(4+4j)</td>\n",
       "    </tr>\n",
       "    <tr>\n",
       "      <th>3j</th>\n",
       "      <td>(-4+3j)</td>\n",
       "      <td>(-3+3j)</td>\n",
       "      <td>(-2+3j)</td>\n",
       "      <td>(-1+3j)</td>\n",
       "      <td>3j</td>\n",
       "      <td>(1+3j)</td>\n",
       "      <td>(2+3j)</td>\n",
       "      <td>(3+3j)</td>\n",
       "      <td>(4+3j)</td>\n",
       "    </tr>\n",
       "    <tr>\n",
       "      <th>2j</th>\n",
       "      <td>(-4+2j)</td>\n",
       "      <td>(-3+2j)</td>\n",
       "      <td>(-2+2j)</td>\n",
       "      <td>(-1+2j)</td>\n",
       "      <td>2j</td>\n",
       "      <td>(1+2j)</td>\n",
       "      <td>(2+2j)</td>\n",
       "      <td>(3+2j)</td>\n",
       "      <td>(4+2j)</td>\n",
       "    </tr>\n",
       "    <tr>\n",
       "      <th>1j</th>\n",
       "      <td>(-4+1j)</td>\n",
       "      <td>(-3+1j)</td>\n",
       "      <td>(-2+1j)</td>\n",
       "      <td>(-1+1j)</td>\n",
       "      <td>1j</td>\n",
       "      <td>(1+1j)</td>\n",
       "      <td>(2+1j)</td>\n",
       "      <td>(3+1j)</td>\n",
       "      <td>(4+1j)</td>\n",
       "    </tr>\n",
       "    <tr>\n",
       "      <th>0j</th>\n",
       "      <td>(-4+0j)</td>\n",
       "      <td>(-3+0j)</td>\n",
       "      <td>(-2+0j)</td>\n",
       "      <td>(-1+0j)</td>\n",
       "      <td>0j</td>\n",
       "      <td>(1+0j)</td>\n",
       "      <td>(2+0j)</td>\n",
       "      <td>(3+0j)</td>\n",
       "      <td>(4+0j)</td>\n",
       "    </tr>\n",
       "    <tr>\n",
       "      <th>-1j</th>\n",
       "      <td>(-4-1j)</td>\n",
       "      <td>(-3-1j)</td>\n",
       "      <td>(-2-1j)</td>\n",
       "      <td>(-1-1j)</td>\n",
       "      <td>-1j</td>\n",
       "      <td>(1-1j)</td>\n",
       "      <td>(2-1j)</td>\n",
       "      <td>(3-1j)</td>\n",
       "      <td>(4-1j)</td>\n",
       "    </tr>\n",
       "    <tr>\n",
       "      <th>-2j</th>\n",
       "      <td>(-4-2j)</td>\n",
       "      <td>(-3-2j)</td>\n",
       "      <td>(-2-2j)</td>\n",
       "      <td>(-1-2j)</td>\n",
       "      <td>-2j</td>\n",
       "      <td>(1-2j)</td>\n",
       "      <td>(2-2j)</td>\n",
       "      <td>(3-2j)</td>\n",
       "      <td>(4-2j)</td>\n",
       "    </tr>\n",
       "    <tr>\n",
       "      <th>-3j</th>\n",
       "      <td>(-4-3j)</td>\n",
       "      <td>(-3-3j)</td>\n",
       "      <td>(-2-3j)</td>\n",
       "      <td>(-1-3j)</td>\n",
       "      <td>-3j</td>\n",
       "      <td>(1-3j)</td>\n",
       "      <td>(2-3j)</td>\n",
       "      <td>(3-3j)</td>\n",
       "      <td>(4-3j)</td>\n",
       "    </tr>\n",
       "    <tr>\n",
       "      <th>-4j</th>\n",
       "      <td>(-4-4j)</td>\n",
       "      <td>(-3-4j)</td>\n",
       "      <td>(-2-4j)</td>\n",
       "      <td>(-1-4j)</td>\n",
       "      <td>-4j</td>\n",
       "      <td>(1-4j)</td>\n",
       "      <td>(2-4j)</td>\n",
       "      <td>(3-4j)</td>\n",
       "      <td>(4-4j)</td>\n",
       "    </tr>\n",
       "  </tbody>\n",
       "</table>\n",
       "</div>"
      ]
     },
     "execution_count": 5,
     "metadata": {
     },
     "output_type": "execute_result"
    }
   ],
   "source": [
    "myPlane = cp.ArrayComplexPlane(-4,4,9,-4,4,9)\n",
    "myPlane.printPlane()\n",
    "myPlane.getPlane()"
   ]
  },
  {
   "cell_type": "markdown",
   "metadata": {
    "collapsed": false
   },
   "source": [
    "In the above code, we created the ArrayComplexPlane(xmin,xmax,xlen,ymin,ymax,ylen) object, setting arbituary Plane specifications. in this case, we set its range and domain to\n",
    "    $$ -4 \\ge x \\ge 4 $$\n",
    "    $$ -4 \\ge y \\ge 4 $$\n",
    "with a step sixe of 1 (since the domain spans over 9 integers and xlen = 9 => 9/9 = 1 = step size, symmetric for y step size)"
   ]
  },
  {
   "cell_type": "markdown",
   "metadata": {
    "collapsed": false
   },
   "source": [
    "this is our constructor in python\n",
    "```python\n",
    "def __init__(self,xmin,xmax,xlen,ymin,ymax,ylen):\n",
    "        self.__setPlane(xmin,xmax,xlen,ymin,ymax,ylen)\n",
    "        return\n",
    "\n",
    "def __setPlane(self,xmin,xmax,xlen,ymin,ymax,ylen):\n",
    "        self.xmin  = xmin\n",
    "        self.xmax  = xmax\n",
    "        self.xlen  = xlen\n",
    "        self.ymin  = ymin\n",
    "        self.ymax  = ymax\n",
    "        self.ylen  = ylen\n",
    "        self.fs = []\n",
    "\n",
    "        x = np.linspace(self.xmin,self.xmax,self.xlen)\n",
    "        y = np.linspace(self.ymin,self.ymax,self.ylen)\n",
    "        xx, yy = np.meshgrid(x, y)\n",
    "        self.plane = xx - yy*1j\n",
    "\n",
    "        self.plane = pd.DataFrame(self.plane, index=-y*1j+0, columns=x)\n",
    "\n",
    "        return\n",
    "```\n",
    "in our constructor we call a private funnction called\n",
    "```python\n",
    "__setPlane(self,xmin,xmax,xlen,ymin,ymax,ylen)\n",
    "```\n",
    "where we initialize our arguments to the given input and initialize self.fs = []. After args are implemented, __setPlane( self, xmin, xmax, xlen, ymin, ymax, ylen ) then implements self.plane by using numpy to create the real and imaginary axis with linspace(), it then creates a meshgrid of the range and  domain and is finally re-represented in complex form. then we use a panda to create the Data frame of self.plane.\n",
    "And finally, our function has no return value and terminates"
   ]
  },
  {
   "cell_type": "markdown",
   "metadata": {
    "collapsed": false
   },
   "source": [
    "## The Apply Function"
   ]
  },
  {
   "cell_type": "code",
   "execution_count": 6,
   "metadata": {
    "collapsed": false
   },
   "outputs": [
    {
     "data": {
      "text/html": [
       "<div>\n",
       "<style>\n",
       "    .dataframe thead tr:only-child th {\n",
       "        text-align: right;\n",
       "    }\n",
       "\n",
       "    .dataframe thead th {\n",
       "        text-align: left;\n",
       "    }\n",
       "\n",
       "    .dataframe tbody tr th {\n",
       "        vertical-align: top;\n",
       "    }\n",
       "</style>\n",
       "<table border=\"1\" class=\"dataframe\">\n",
       "  <thead>\n",
       "    <tr style=\"text-align: right;\">\n",
       "      <th></th>\n",
       "      <th>-4.0</th>\n",
       "      <th>-3.0</th>\n",
       "      <th>-2.0</th>\n",
       "      <th>-1.0</th>\n",
       "      <th>0.0</th>\n",
       "      <th>1.0</th>\n",
       "      <th>2.0</th>\n",
       "      <th>3.0</th>\n",
       "      <th>4.0</th>\n",
       "    </tr>\n",
       "  </thead>\n",
       "  <tbody>\n",
       "    <tr>\n",
       "      <th>4j</th>\n",
       "      <td>-32j</td>\n",
       "      <td>(-7-24j)</td>\n",
       "      <td>(-12-16j)</td>\n",
       "      <td>(-15-8j)</td>\n",
       "      <td>(-16+0j)</td>\n",
       "      <td>(-15+8j)</td>\n",
       "      <td>(-12+16j)</td>\n",
       "      <td>(-7+24j)</td>\n",
       "      <td>32j</td>\n",
       "    </tr>\n",
       "    <tr>\n",
       "      <th>3j</th>\n",
       "      <td>(7-24j)</td>\n",
       "      <td>-18j</td>\n",
       "      <td>(-5-12j)</td>\n",
       "      <td>(-8-6j)</td>\n",
       "      <td>(-9+0j)</td>\n",
       "      <td>(-8+6j)</td>\n",
       "      <td>(-5+12j)</td>\n",
       "      <td>18j</td>\n",
       "      <td>(7+24j)</td>\n",
       "    </tr>\n",
       "    <tr>\n",
       "      <th>2j</th>\n",
       "      <td>(12-16j)</td>\n",
       "      <td>(5-12j)</td>\n",
       "      <td>-8j</td>\n",
       "      <td>(-3-4j)</td>\n",
       "      <td>(-4+0j)</td>\n",
       "      <td>(-3+4j)</td>\n",
       "      <td>8j</td>\n",
       "      <td>(5+12j)</td>\n",
       "      <td>(12+16j)</td>\n",
       "    </tr>\n",
       "    <tr>\n",
       "      <th>1j</th>\n",
       "      <td>(15-8j)</td>\n",
       "      <td>(8-6j)</td>\n",
       "      <td>(3-4j)</td>\n",
       "      <td>-2j</td>\n",
       "      <td>(-1+0j)</td>\n",
       "      <td>2j</td>\n",
       "      <td>(3+4j)</td>\n",
       "      <td>(8+6j)</td>\n",
       "      <td>(15+8j)</td>\n",
       "    </tr>\n",
       "    <tr>\n",
       "      <th>0j</th>\n",
       "      <td>(16-0j)</td>\n",
       "      <td>(9-0j)</td>\n",
       "      <td>(4-0j)</td>\n",
       "      <td>(1-0j)</td>\n",
       "      <td>0j</td>\n",
       "      <td>(1+0j)</td>\n",
       "      <td>(4+0j)</td>\n",
       "      <td>(9+0j)</td>\n",
       "      <td>(16+0j)</td>\n",
       "    </tr>\n",
       "    <tr>\n",
       "      <th>-1j</th>\n",
       "      <td>(15+8j)</td>\n",
       "      <td>(8+6j)</td>\n",
       "      <td>(3+4j)</td>\n",
       "      <td>2j</td>\n",
       "      <td>(-1-0j)</td>\n",
       "      <td>-2j</td>\n",
       "      <td>(3-4j)</td>\n",
       "      <td>(8-6j)</td>\n",
       "      <td>(15-8j)</td>\n",
       "    </tr>\n",
       "    <tr>\n",
       "      <th>-2j</th>\n",
       "      <td>(12+16j)</td>\n",
       "      <td>(5+12j)</td>\n",
       "      <td>8j</td>\n",
       "      <td>(-3+4j)</td>\n",
       "      <td>(-4-0j)</td>\n",
       "      <td>(-3-4j)</td>\n",
       "      <td>-8j</td>\n",
       "      <td>(5-12j)</td>\n",
       "      <td>(12-16j)</td>\n",
       "    </tr>\n",
       "    <tr>\n",
       "      <th>-3j</th>\n",
       "      <td>(7+24j)</td>\n",
       "      <td>18j</td>\n",
       "      <td>(-5+12j)</td>\n",
       "      <td>(-8+6j)</td>\n",
       "      <td>(-9-0j)</td>\n",
       "      <td>(-8-6j)</td>\n",
       "      <td>(-5-12j)</td>\n",
       "      <td>-18j</td>\n",
       "      <td>(7-24j)</td>\n",
       "    </tr>\n",
       "    <tr>\n",
       "      <th>-4j</th>\n",
       "      <td>32j</td>\n",
       "      <td>(-7+24j)</td>\n",
       "      <td>(-12+16j)</td>\n",
       "      <td>(-15+8j)</td>\n",
       "      <td>(-16-0j)</td>\n",
       "      <td>(-15-8j)</td>\n",
       "      <td>(-12-16j)</td>\n",
       "      <td>(-7-24j)</td>\n",
       "      <td>-32j</td>\n",
       "    </tr>\n",
       "  </tbody>\n",
       "</table>\n",
       "</div>"
      ]
     },
     "execution_count": 6,
     "metadata": {
     },
     "output_type": "execute_result"
    }
   ],
   "source": [
    "def f(x):\n",
    "    return x*x\n",
    "\n",
    "myPlane.apply(f)\n",
    "myPlane.getPlane()"
   ]
  },
  {
   "cell_type": "markdown",
   "metadata": {
    "collapsed": false
   },
   "source": [
    "in the above code block, we applied f(x) to the plane from the previous example. in this specific case,\n",
    "     $$ f(x) = x^{2} $$\n",
    "to test whether or not this table is the true transformation, lets take element $ -4 + 4j $ from the Plane before the transformation, we see that $ -32j $ is the transformed value in the plane printed above. so\n",
    "$$ (-4 + 4j)^2 = 16 - 16j - 16j + 16j^2 = -32j $$\n",
    "so the transformation f on the complex plane is working correctly"
   ]
  },
  {
   "cell_type": "markdown",
   "metadata": {
    "collapsed": false
   },
   "source": [
    "this is our apply in python\n",
    "```python\n",
    "def apply(self, f, addTofs):\n",
    "        self.fs.append(f)\n",
    "        self.plane = f(self.plane)\n",
    "        return\n",
    "```\n",
    "our apply( self, f ) function appends the f to fs .\n",
    "the function then procedes to apply the function to all points in self.plane, and sets self.plane to the new transformed plane. this is done in the line\n",
    "```python\n",
    "self.plane = f(self.plane)\n",
    "```\n",
    "and finally, our function has no return value and terminates"
   ]
  },
  {
   "cell_type": "markdown",
   "metadata": {
    "collapsed": false
   },
   "source": [
    "## The Zoom Function"
   ]
  },
  {
   "cell_type": "code",
   "execution_count": 7,
   "metadata": {
    "collapsed": false
   },
   "outputs": [
    {
     "name": "stdout",
     "output_type": "stream",
     "text": [
      "ZOOMED PLANE\n",
      "########################################-Complex Plane-######################################## \n",
      "\n",
      "       -2.0     -1.0      0.0      1.0     2.0\n",
      "2j      -8j  (-3-4j)  (-4+0j)  (-3+4j)      8j\n",
      "1j   (3-4j)      -2j  (-1+0j)       2j  (3+4j)\n",
      "0j   (4-0j)   (1-0j)       0j   (1+0j)  (4+0j)\n",
      "-1j  (3+4j)       2j  (-1-0j)      -2j  (3-4j)\n",
      "-2j      8j  (-3+4j)  (-4-0j)  (-3-4j)     -8j \n",
      "\n",
      "############################################################################################### \n",
      "\n"
     ]
    },
    {
     "data": {
      "text/html": [
       "<div>\n",
       "<style>\n",
       "    .dataframe thead tr:only-child th {\n",
       "        text-align: right;\n",
       "    }\n",
       "\n",
       "    .dataframe thead th {\n",
       "        text-align: left;\n",
       "    }\n",
       "\n",
       "    .dataframe tbody tr th {\n",
       "        vertical-align: top;\n",
       "    }\n",
       "</style>\n",
       "<table border=\"1\" class=\"dataframe\">\n",
       "  <thead>\n",
       "    <tr style=\"text-align: right;\">\n",
       "      <th></th>\n",
       "      <th>-2.0</th>\n",
       "      <th>-1.0</th>\n",
       "      <th>0.0</th>\n",
       "      <th>1.0</th>\n",
       "      <th>2.0</th>\n",
       "    </tr>\n",
       "  </thead>\n",
       "  <tbody>\n",
       "    <tr>\n",
       "      <th>2j</th>\n",
       "      <td>-8j</td>\n",
       "      <td>(-3-4j)</td>\n",
       "      <td>(-4+0j)</td>\n",
       "      <td>(-3+4j)</td>\n",
       "      <td>8j</td>\n",
       "    </tr>\n",
       "    <tr>\n",
       "      <th>1j</th>\n",
       "      <td>(3-4j)</td>\n",
       "      <td>-2j</td>\n",
       "      <td>(-1+0j)</td>\n",
       "      <td>2j</td>\n",
       "      <td>(3+4j)</td>\n",
       "    </tr>\n",
       "    <tr>\n",
       "      <th>0j</th>\n",
       "      <td>(4-0j)</td>\n",
       "      <td>(1-0j)</td>\n",
       "      <td>0j</td>\n",
       "      <td>(1+0j)</td>\n",
       "      <td>(4+0j)</td>\n",
       "    </tr>\n",
       "    <tr>\n",
       "      <th>-1j</th>\n",
       "      <td>(3+4j)</td>\n",
       "      <td>2j</td>\n",
       "      <td>(-1-0j)</td>\n",
       "      <td>-2j</td>\n",
       "      <td>(3-4j)</td>\n",
       "    </tr>\n",
       "    <tr>\n",
       "      <th>-2j</th>\n",
       "      <td>8j</td>\n",
       "      <td>(-3+4j)</td>\n",
       "      <td>(-4-0j)</td>\n",
       "      <td>(-3-4j)</td>\n",
       "      <td>-8j</td>\n",
       "    </tr>\n",
       "  </tbody>\n",
       "</table>\n",
       "</div>"
      ]
     },
     "execution_count": 7,
     "metadata": {
     },
     "output_type": "execute_result"
    }
   ],
   "source": [
    "myPlane.zoom(-2,2,5,-2,2,5)\n",
    "print(\"ZOOMED PLANE\")\n",
    "myPlane.printPlane()\n",
    "myPlane.getPlane()"
   ]
  },
  {
   "cell_type": "markdown",
   "metadata": {
    "collapsed": false
   },
   "source": [
    "ater zoom(xmin,xmax,xlen,ymin,ymax,ylen) is applied to the plane, the private attributes of plane are changed to the input values in zoom. All f in fs are then re-applied to the plane, as you can see, the values at each point remain the same relative to the previous example where f was applied to the plane."
   ]
  },
  {
   "cell_type": "markdown",
   "metadata": {
    "collapsed": false
   },
   "source": [
    "this is our zoom in python\n",
    "```python\n",
    "def zoom(self,xmin,xmax,xlen,ymin,ymax,ylen):\n",
    "        self.__setPlane(xmin,xmax,xlen,ymin,ymax,ylen)\n",
    "        for k in range(len(self.fs)):\n",
    "            self.apply(self.fs[k])\n",
    "        return\n",
    "```\n",
    "our function zoom takes in args xmin, xmax, xlen, ymin, ymax, ylen and sets the private args to these values respectively and generating a new plane by calling __setPlane( xmin, xmax, xlen, ymin, ymax, ylen ). then zoom must re-apply all f in fs to the new self.plane. to do this, we used a for loop that it iterates over len( fs )\n",
    "and applys all functions to self.plane using the apply function.\n",
    "and finally, we return and terminate the function."
   ]
  },
  {
   "cell_type": "markdown",
   "metadata": {
    "collapsed": false
   },
   "source": [
    "## The Refresh Function"
   ]
  },
  {
   "cell_type": "code",
   "execution_count": 17,
   "metadata": {
    "collapsed": false
   },
   "outputs": [
    {
     "name": "stdout",
     "output_type": "stream",
     "text": [
      "REFRESHED PLANE\n",
      "########################################-Complex Plane-######################################## \n",
      "\n",
      "        -2.0     -1.0   0.0     1.0     2.0\n",
      "2j   (-2+2j)  (-1+2j)    2j  (1+2j)  (2+2j)\n",
      "1j   (-2+1j)  (-1+1j)    1j  (1+1j)  (2+1j)\n",
      "0j   (-2+0j)  (-1+0j)    0j  (1+0j)  (2+0j)\n",
      "-1j  (-2-1j)  (-1-1j)   -1j  (1-1j)  (2-1j)\n",
      "-2j  (-2-2j)  (-1-2j)   -2j  (1-2j)  (2-2j) \n",
      "\n",
      "############################################################################################### \n",
      "\n"
     ]
    }
   ],
   "source": [
    "myPlane.refresh()\n",
    "print(\"REFRESHED PLANE\")\n",
    "myPlane.printPlane()"
   ]
  },
  {
   "cell_type": "raw",
   "metadata": {
    "collapsed": false
   },
   "source": [
    "after refresh() is applied to the plane, we see that the values revert back to the untransformed points, but still zoomed in. the method refresh() resets all args and clears fs, so that there are no functions acting on the plane."
   ]
  },
  {
   "cell_type": "markdown",
   "metadata": {
    "collapsed": false
   },
   "source": [
    "this is our refresh in python\n",
    "```python\n",
    "    def refresh(self):\n",
    "        self.__setPlane(self.xmin,self.xmax,self.xlen,self.ymin,self.ymax,self.ylen)\n",
    "        return\n",
    "```\n",
    "since refresh is meant to reset the private args to original vals and set fs = [] and regenerate self.plane, we can call _setPlane(). to keep the private vars static, we input our private vars into _setPlane() so that they are set to themselves. Which does seem redundant to have a public function that does exactly what a private function does. however, refresh() requires no input , and therefore the user cannot change private vars like one could in __setPlane(). the difference is minor, but essential for good design and good object oriented programming.\n",
    "and finally we return and terminate the function"
   ]
  },
  {
   "cell_type": "markdown",
   "metadata": {
    "collapsed": false
   },
   "source": [
    "To achieve the primary state from the first example, we can call zoom to zoom out, as shown below"
   ]
  },
  {
   "cell_type": "code",
   "execution_count": 4,
   "metadata": {
    "collapsed": false
   },
   "outputs": [
    {
     "name": "stdout",
     "output_type": "stream",
     "text": [
      "########################################-Complex Plane-######################################## \n",
      "\n",
      "        -4.0     -3.0     -2.0     -1.0   0.0     1.0     2.0     3.0     4.0\n",
      "4j   (-4+4j)  (-3+4j)  (-2+4j)  (-1+4j)    4j  (1+4j)  (2+4j)  (3+4j)  (4+4j)\n",
      "3j   (-4+3j)  (-3+3j)  (-2+3j)  (-1+3j)    3j  (1+3j)  (2+3j)  (3+3j)  (4+3j)\n",
      "2j   (-4+2j)  (-3+2j)  (-2+2j)  (-1+2j)    2j  (1+2j)  (2+2j)  (3+2j)  (4+2j)\n",
      "1j   (-4+1j)  (-3+1j)  (-2+1j)  (-1+1j)    1j  (1+1j)  (2+1j)  (3+1j)  (4+1j)\n",
      "0j   (-4+0j)  (-3+0j)  (-2+0j)  (-1+0j)    0j  (1+0j)  (2+0j)  (3+0j)  (4+0j)\n",
      "-1j  (-4-1j)  (-3-1j)  (-2-1j)  (-1-1j)   -1j  (1-1j)  (2-1j)  (3-1j)  (4-1j)\n",
      "-2j  (-4-2j)  (-3-2j)  (-2-2j)  (-1-2j)   -2j  (1-2j)  (2-2j)  (3-2j)  (4-2j)\n",
      "-3j  (-4-3j)  (-3-3j)  (-2-3j)  (-1-3j)   -3j  (1-3j)  (2-3j)  (3-3j)  (4-3j)\n",
      "-4j  (-4-4j)  (-3-4j)  (-2-4j)  (-1-4j)   -4j  (1-4j)  (2-4j)  (3-4j)  (4-4j) \n",
      "\n",
      "############################################################################################### \n",
      "\n"
     ]
    },
    {
     "data": {
      "text/html": [
       "<div>\n",
       "<style>\n",
       "    .dataframe thead tr:only-child th {\n",
       "        text-align: right;\n",
       "    }\n",
       "\n",
       "    .dataframe thead th {\n",
       "        text-align: left;\n",
       "    }\n",
       "\n",
       "    .dataframe tbody tr th {\n",
       "        vertical-align: top;\n",
       "    }\n",
       "</style>\n",
       "<table border=\"1\" class=\"dataframe\">\n",
       "  <thead>\n",
       "    <tr style=\"text-align: right;\">\n",
       "      <th></th>\n",
       "      <th>-4.0</th>\n",
       "      <th>-3.0</th>\n",
       "      <th>-2.0</th>\n",
       "      <th>-1.0</th>\n",
       "      <th>0.0</th>\n",
       "      <th>1.0</th>\n",
       "      <th>2.0</th>\n",
       "      <th>3.0</th>\n",
       "      <th>4.0</th>\n",
       "    </tr>\n",
       "  </thead>\n",
       "  <tbody>\n",
       "    <tr>\n",
       "      <th>4j</th>\n",
       "      <td>(-4+4j)</td>\n",
       "      <td>(-3+4j)</td>\n",
       "      <td>(-2+4j)</td>\n",
       "      <td>(-1+4j)</td>\n",
       "      <td>4j</td>\n",
       "      <td>(1+4j)</td>\n",
       "      <td>(2+4j)</td>\n",
       "      <td>(3+4j)</td>\n",
       "      <td>(4+4j)</td>\n",
       "    </tr>\n",
       "    <tr>\n",
       "      <th>3j</th>\n",
       "      <td>(-4+3j)</td>\n",
       "      <td>(-3+3j)</td>\n",
       "      <td>(-2+3j)</td>\n",
       "      <td>(-1+3j)</td>\n",
       "      <td>3j</td>\n",
       "      <td>(1+3j)</td>\n",
       "      <td>(2+3j)</td>\n",
       "      <td>(3+3j)</td>\n",
       "      <td>(4+3j)</td>\n",
       "    </tr>\n",
       "    <tr>\n",
       "      <th>2j</th>\n",
       "      <td>(-4+2j)</td>\n",
       "      <td>(-3+2j)</td>\n",
       "      <td>(-2+2j)</td>\n",
       "      <td>(-1+2j)</td>\n",
       "      <td>2j</td>\n",
       "      <td>(1+2j)</td>\n",
       "      <td>(2+2j)</td>\n",
       "      <td>(3+2j)</td>\n",
       "      <td>(4+2j)</td>\n",
       "    </tr>\n",
       "    <tr>\n",
       "      <th>1j</th>\n",
       "      <td>(-4+1j)</td>\n",
       "      <td>(-3+1j)</td>\n",
       "      <td>(-2+1j)</td>\n",
       "      <td>(-1+1j)</td>\n",
       "      <td>1j</td>\n",
       "      <td>(1+1j)</td>\n",
       "      <td>(2+1j)</td>\n",
       "      <td>(3+1j)</td>\n",
       "      <td>(4+1j)</td>\n",
       "    </tr>\n",
       "    <tr>\n",
       "      <th>0j</th>\n",
       "      <td>(-4+0j)</td>\n",
       "      <td>(-3+0j)</td>\n",
       "      <td>(-2+0j)</td>\n",
       "      <td>(-1+0j)</td>\n",
       "      <td>0j</td>\n",
       "      <td>(1+0j)</td>\n",
       "      <td>(2+0j)</td>\n",
       "      <td>(3+0j)</td>\n",
       "      <td>(4+0j)</td>\n",
       "    </tr>\n",
       "    <tr>\n",
       "      <th>-1j</th>\n",
       "      <td>(-4-1j)</td>\n",
       "      <td>(-3-1j)</td>\n",
       "      <td>(-2-1j)</td>\n",
       "      <td>(-1-1j)</td>\n",
       "      <td>-1j</td>\n",
       "      <td>(1-1j)</td>\n",
       "      <td>(2-1j)</td>\n",
       "      <td>(3-1j)</td>\n",
       "      <td>(4-1j)</td>\n",
       "    </tr>\n",
       "    <tr>\n",
       "      <th>-2j</th>\n",
       "      <td>(-4-2j)</td>\n",
       "      <td>(-3-2j)</td>\n",
       "      <td>(-2-2j)</td>\n",
       "      <td>(-1-2j)</td>\n",
       "      <td>-2j</td>\n",
       "      <td>(1-2j)</td>\n",
       "      <td>(2-2j)</td>\n",
       "      <td>(3-2j)</td>\n",
       "      <td>(4-2j)</td>\n",
       "    </tr>\n",
       "    <tr>\n",
       "      <th>-3j</th>\n",
       "      <td>(-4-3j)</td>\n",
       "      <td>(-3-3j)</td>\n",
       "      <td>(-2-3j)</td>\n",
       "      <td>(-1-3j)</td>\n",
       "      <td>-3j</td>\n",
       "      <td>(1-3j)</td>\n",
       "      <td>(2-3j)</td>\n",
       "      <td>(3-3j)</td>\n",
       "      <td>(4-3j)</td>\n",
       "    </tr>\n",
       "    <tr>\n",
       "      <th>-4j</th>\n",
       "      <td>(-4-4j)</td>\n",
       "      <td>(-3-4j)</td>\n",
       "      <td>(-2-4j)</td>\n",
       "      <td>(-1-4j)</td>\n",
       "      <td>-4j</td>\n",
       "      <td>(1-4j)</td>\n",
       "      <td>(2-4j)</td>\n",
       "      <td>(3-4j)</td>\n",
       "      <td>(4-4j)</td>\n",
       "    </tr>\n",
       "  </tbody>\n",
       "</table>\n",
       "</div>"
      ]
     },
     "execution_count": 4,
     "metadata": {
     },
     "output_type": "execute_result"
    }
   ],
   "source": [
    "myPlane.zoom(-4,4,9,-4,4,9)\n",
    "myPlane.printPlane()\n",
    "myPlane.getPlane()"
   ]
  },
  {
   "cell_type": "markdown",
   "metadata": {
    "collapsed": false
   },
   "source": [
    "## The Plot"
   ]
  },
  {
   "cell_type": "code",
   "execution_count": 4,
   "metadata": {
    "collapsed": false
   },
   "outputs": [
    {
     "data": {
      "text/html": [
       "<div>\n",
       "<style>\n",
       "    .dataframe thead tr:only-child th {\n",
       "        text-align: right;\n",
       "    }\n",
       "\n",
       "    .dataframe thead th {\n",
       "        text-align: left;\n",
       "    }\n",
       "\n",
       "    .dataframe tbody tr th {\n",
       "        vertical-align: top;\n",
       "    }\n",
       "</style>\n",
       "<table border=\"1\" class=\"dataframe\">\n",
       "  <thead>\n",
       "    <tr style=\"text-align: right;\">\n",
       "      <th></th>\n",
       "      <th>-4.0</th>\n",
       "      <th>-3.0</th>\n",
       "      <th>-2.0</th>\n",
       "      <th>-1.0</th>\n",
       "      <th>0.0</th>\n",
       "      <th>1.0</th>\n",
       "      <th>2.0</th>\n",
       "      <th>3.0</th>\n",
       "      <th>4.0</th>\n",
       "    </tr>\n",
       "  </thead>\n",
       "  <tbody>\n",
       "    <tr>\n",
       "      <th>4j</th>\n",
       "      <td>(-4+4j)</td>\n",
       "      <td>(-3+4j)</td>\n",
       "      <td>(-2+4j)</td>\n",
       "      <td>(-1+4j)</td>\n",
       "      <td>4j</td>\n",
       "      <td>(1+4j)</td>\n",
       "      <td>(2+4j)</td>\n",
       "      <td>(3+4j)</td>\n",
       "      <td>(4+4j)</td>\n",
       "    </tr>\n",
       "    <tr>\n",
       "      <th>3j</th>\n",
       "      <td>(-4+3j)</td>\n",
       "      <td>(-3+3j)</td>\n",
       "      <td>(-2+3j)</td>\n",
       "      <td>(-1+3j)</td>\n",
       "      <td>3j</td>\n",
       "      <td>(1+3j)</td>\n",
       "      <td>(2+3j)</td>\n",
       "      <td>(3+3j)</td>\n",
       "      <td>(4+3j)</td>\n",
       "    </tr>\n",
       "    <tr>\n",
       "      <th>2j</th>\n",
       "      <td>(-4+2j)</td>\n",
       "      <td>(-3+2j)</td>\n",
       "      <td>(-2+2j)</td>\n",
       "      <td>(-1+2j)</td>\n",
       "      <td>2j</td>\n",
       "      <td>(1+2j)</td>\n",
       "      <td>(2+2j)</td>\n",
       "      <td>(3+2j)</td>\n",
       "      <td>(4+2j)</td>\n",
       "    </tr>\n",
       "    <tr>\n",
       "      <th>1j</th>\n",
       "      <td>(-4+1j)</td>\n",
       "      <td>(-3+1j)</td>\n",
       "      <td>(-2+1j)</td>\n",
       "      <td>(-1+1j)</td>\n",
       "      <td>1j</td>\n",
       "      <td>(1+1j)</td>\n",
       "      <td>(2+1j)</td>\n",
       "      <td>(3+1j)</td>\n",
       "      <td>(4+1j)</td>\n",
       "    </tr>\n",
       "    <tr>\n",
       "      <th>0j</th>\n",
       "      <td>(-4+0j)</td>\n",
       "      <td>(-3+0j)</td>\n",
       "      <td>(-2+0j)</td>\n",
       "      <td>(-1+0j)</td>\n",
       "      <td>0j</td>\n",
       "      <td>(1+0j)</td>\n",
       "      <td>(2+0j)</td>\n",
       "      <td>(3+0j)</td>\n",
       "      <td>(4+0j)</td>\n",
       "    </tr>\n",
       "    <tr>\n",
       "      <th>-1j</th>\n",
       "      <td>(-4-1j)</td>\n",
       "      <td>(-3-1j)</td>\n",
       "      <td>(-2-1j)</td>\n",
       "      <td>(-1-1j)</td>\n",
       "      <td>-1j</td>\n",
       "      <td>(1-1j)</td>\n",
       "      <td>(2-1j)</td>\n",
       "      <td>(3-1j)</td>\n",
       "      <td>(4-1j)</td>\n",
       "    </tr>\n",
       "    <tr>\n",
       "      <th>-2j</th>\n",
       "      <td>(-4-2j)</td>\n",
       "      <td>(-3-2j)</td>\n",
       "      <td>(-2-2j)</td>\n",
       "      <td>(-1-2j)</td>\n",
       "      <td>-2j</td>\n",
       "      <td>(1-2j)</td>\n",
       "      <td>(2-2j)</td>\n",
       "      <td>(3-2j)</td>\n",
       "      <td>(4-2j)</td>\n",
       "    </tr>\n",
       "    <tr>\n",
       "      <th>-3j</th>\n",
       "      <td>(-4-3j)</td>\n",
       "      <td>(-3-3j)</td>\n",
       "      <td>(-2-3j)</td>\n",
       "      <td>(-1-3j)</td>\n",
       "      <td>-3j</td>\n",
       "      <td>(1-3j)</td>\n",
       "      <td>(2-3j)</td>\n",
       "      <td>(3-3j)</td>\n",
       "      <td>(4-3j)</td>\n",
       "    </tr>\n",
       "    <tr>\n",
       "      <th>-4j</th>\n",
       "      <td>(-4-4j)</td>\n",
       "      <td>(-3-4j)</td>\n",
       "      <td>(-2-4j)</td>\n",
       "      <td>(-1-4j)</td>\n",
       "      <td>-4j</td>\n",
       "      <td>(1-4j)</td>\n",
       "      <td>(2-4j)</td>\n",
       "      <td>(3-4j)</td>\n",
       "      <td>(4-4j)</td>\n",
       "    </tr>\n",
       "  </tbody>\n",
       "</table>\n",
       "</div>"
      ]
     },
     "execution_count": 4,
     "metadata": {
     },
     "output_type": "execute_result"
    }
   ],
   "source": [
    "myPlane.getPlane()"
   ]
  },
  {
   "cell_type": "code",
   "execution_count": 8,
   "metadata": {
    "collapsed": false
   },
   "outputs": [
    {
     "ename": "TypeError",
     "evalue": "can't convert complex to float",
     "output_type": "error",
     "traceback": [
      "\u001b[0;31m---------------------------------------------------------------------------\u001b[0m",
      "\u001b[0;31mTypeError\u001b[0m                                 Traceback (most recent call last)",
      "\u001b[0;32m<ipython-input-8-91189d901241>\u001b[0m in \u001b[0;36m<module>\u001b[0;34m()\u001b[0m\n\u001b[1;32m      1\u001b[0m \u001b[0mfig\u001b[0m \u001b[0;34m=\u001b[0m \u001b[0mplt\u001b[0m\u001b[0;34m.\u001b[0m\u001b[0mfigure\u001b[0m\u001b[0;34m(\u001b[0m\u001b[0;36m1\u001b[0m\u001b[0;34m)\u001b[0m\u001b[0;34m\u001b[0m\u001b[0m\n\u001b[0;32m----> 2\u001b[0;31m \u001b[0mplt\u001b[0m\u001b[0;34m.\u001b[0m\u001b[0mplot\u001b[0m\u001b[0;34m(\u001b[0m\u001b[0mmyPlane\u001b[0m\u001b[0;34m.\u001b[0m\u001b[0mgetPlane\u001b[0m\u001b[0;34m(\u001b[0m\u001b[0;34m)\u001b[0m\u001b[0;34m)\u001b[0m\u001b[0;34m\u001b[0m\u001b[0m\n\u001b[0m\u001b[1;32m      3\u001b[0m \u001b[0mplt\u001b[0m\u001b[0;34m.\u001b[0m\u001b[0mshow\u001b[0m\u001b[0;34m(\u001b[0m\u001b[0mfig\u001b[0m\u001b[0;34m)\u001b[0m\u001b[0;34m\u001b[0m\u001b[0m\n",
      "\u001b[0;32m/ext/anaconda3/lib/python3.5/site-packages/matplotlib/pyplot.py\u001b[0m in \u001b[0;36mplot\u001b[0;34m(*args, **kwargs)\u001b[0m\n\u001b[1;32m   3315\u001b[0m                       mplDeprecation)\n\u001b[1;32m   3316\u001b[0m     \u001b[0;32mtry\u001b[0m\u001b[0;34m:\u001b[0m\u001b[0;34m\u001b[0m\u001b[0m\n\u001b[0;32m-> 3317\u001b[0;31m         \u001b[0mret\u001b[0m \u001b[0;34m=\u001b[0m \u001b[0max\u001b[0m\u001b[0;34m.\u001b[0m\u001b[0mplot\u001b[0m\u001b[0;34m(\u001b[0m\u001b[0;34m*\u001b[0m\u001b[0margs\u001b[0m\u001b[0;34m,\u001b[0m \u001b[0;34m**\u001b[0m\u001b[0mkwargs\u001b[0m\u001b[0;34m)\u001b[0m\u001b[0;34m\u001b[0m\u001b[0m\n\u001b[0m\u001b[1;32m   3318\u001b[0m     \u001b[0;32mfinally\u001b[0m\u001b[0;34m:\u001b[0m\u001b[0;34m\u001b[0m\u001b[0m\n\u001b[1;32m   3319\u001b[0m         \u001b[0max\u001b[0m\u001b[0;34m.\u001b[0m\u001b[0m_hold\u001b[0m \u001b[0;34m=\u001b[0m \u001b[0mwashold\u001b[0m\u001b[0;34m\u001b[0m\u001b[0m\n",
      "\u001b[0;32m/ext/anaconda3/lib/python3.5/site-packages/matplotlib/__init__.py\u001b[0m in \u001b[0;36minner\u001b[0;34m(ax, *args, **kwargs)\u001b[0m\n\u001b[1;32m   1896\u001b[0m                     warnings.warn(msg % (label_namer, func.__name__),\n\u001b[1;32m   1897\u001b[0m                                   RuntimeWarning, stacklevel=2)\n\u001b[0;32m-> 1898\u001b[0;31m             \u001b[0;32mreturn\u001b[0m \u001b[0mfunc\u001b[0m\u001b[0;34m(\u001b[0m\u001b[0max\u001b[0m\u001b[0;34m,\u001b[0m \u001b[0;34m*\u001b[0m\u001b[0margs\u001b[0m\u001b[0;34m,\u001b[0m \u001b[0;34m**\u001b[0m\u001b[0mkwargs\u001b[0m\u001b[0;34m)\u001b[0m\u001b[0;34m\u001b[0m\u001b[0m\n\u001b[0m\u001b[1;32m   1899\u001b[0m         \u001b[0mpre_doc\u001b[0m \u001b[0;34m=\u001b[0m \u001b[0minner\u001b[0m\u001b[0;34m.\u001b[0m\u001b[0m__doc__\u001b[0m\u001b[0;34m\u001b[0m\u001b[0m\n\u001b[1;32m   1900\u001b[0m         \u001b[0;32mif\u001b[0m \u001b[0mpre_doc\u001b[0m \u001b[0;32mis\u001b[0m \u001b[0;32mNone\u001b[0m\u001b[0;34m:\u001b[0m\u001b[0;34m\u001b[0m\u001b[0m\n",
      "\u001b[0;32m/ext/anaconda3/lib/python3.5/site-packages/matplotlib/axes/_axes.py\u001b[0m in \u001b[0;36mplot\u001b[0;34m(self, *args, **kwargs)\u001b[0m\n\u001b[1;32m   1405\u001b[0m \u001b[0;34m\u001b[0m\u001b[0m\n\u001b[1;32m   1406\u001b[0m         \u001b[0;32mfor\u001b[0m \u001b[0mline\u001b[0m \u001b[0;32min\u001b[0m \u001b[0mself\u001b[0m\u001b[0;34m.\u001b[0m\u001b[0m_get_lines\u001b[0m\u001b[0;34m(\u001b[0m\u001b[0;34m*\u001b[0m\u001b[0margs\u001b[0m\u001b[0;34m,\u001b[0m \u001b[0;34m**\u001b[0m\u001b[0mkwargs\u001b[0m\u001b[0;34m)\u001b[0m\u001b[0;34m:\u001b[0m\u001b[0;34m\u001b[0m\u001b[0m\n\u001b[0;32m-> 1407\u001b[0;31m             \u001b[0mself\u001b[0m\u001b[0;34m.\u001b[0m\u001b[0madd_line\u001b[0m\u001b[0;34m(\u001b[0m\u001b[0mline\u001b[0m\u001b[0;34m)\u001b[0m\u001b[0;34m\u001b[0m\u001b[0m\n\u001b[0m\u001b[1;32m   1408\u001b[0m             \u001b[0mlines\u001b[0m\u001b[0;34m.\u001b[0m\u001b[0mappend\u001b[0m\u001b[0;34m(\u001b[0m\u001b[0mline\u001b[0m\u001b[0;34m)\u001b[0m\u001b[0;34m\u001b[0m\u001b[0m\n\u001b[1;32m   1409\u001b[0m \u001b[0;34m\u001b[0m\u001b[0m\n",
      "\u001b[0;32m/ext/anaconda3/lib/python3.5/site-packages/matplotlib/axes/_base.py\u001b[0m in \u001b[0;36madd_line\u001b[0;34m(self, line)\u001b[0m\n\u001b[1;32m   1791\u001b[0m             \u001b[0mline\u001b[0m\u001b[0;34m.\u001b[0m\u001b[0mset_clip_path\u001b[0m\u001b[0;34m(\u001b[0m\u001b[0mself\u001b[0m\u001b[0;34m.\u001b[0m\u001b[0mpatch\u001b[0m\u001b[0;34m)\u001b[0m\u001b[0;34m\u001b[0m\u001b[0m\n\u001b[1;32m   1792\u001b[0m \u001b[0;34m\u001b[0m\u001b[0m\n\u001b[0;32m-> 1793\u001b[0;31m         \u001b[0mself\u001b[0m\u001b[0;34m.\u001b[0m\u001b[0m_update_line_limits\u001b[0m\u001b[0;34m(\u001b[0m\u001b[0mline\u001b[0m\u001b[0;34m)\u001b[0m\u001b[0;34m\u001b[0m\u001b[0m\n\u001b[0m\u001b[1;32m   1794\u001b[0m         \u001b[0;32mif\u001b[0m \u001b[0;32mnot\u001b[0m \u001b[0mline\u001b[0m\u001b[0;34m.\u001b[0m\u001b[0mget_label\u001b[0m\u001b[0;34m(\u001b[0m\u001b[0;34m)\u001b[0m\u001b[0;34m:\u001b[0m\u001b[0;34m\u001b[0m\u001b[0m\n\u001b[1;32m   1795\u001b[0m             \u001b[0mline\u001b[0m\u001b[0;34m.\u001b[0m\u001b[0mset_label\u001b[0m\u001b[0;34m(\u001b[0m\u001b[0;34m'_line%d'\u001b[0m \u001b[0;34m%\u001b[0m \u001b[0mlen\u001b[0m\u001b[0;34m(\u001b[0m\u001b[0mself\u001b[0m\u001b[0;34m.\u001b[0m\u001b[0mlines\u001b[0m\u001b[0;34m)\u001b[0m\u001b[0;34m)\u001b[0m\u001b[0;34m\u001b[0m\u001b[0m\n",
      "\u001b[0;32m/ext/anaconda3/lib/python3.5/site-packages/matplotlib/axes/_base.py\u001b[0m in \u001b[0;36m_update_line_limits\u001b[0;34m(self, line)\u001b[0m\n\u001b[1;32m   1813\u001b[0m         \u001b[0mFigures\u001b[0m \u001b[0mout\u001b[0m \u001b[0mthe\u001b[0m \u001b[0mdata\u001b[0m \u001b[0mlimit\u001b[0m \u001b[0mof\u001b[0m \u001b[0mthe\u001b[0m \u001b[0mgiven\u001b[0m \u001b[0mline\u001b[0m\u001b[0;34m,\u001b[0m \u001b[0mupdating\u001b[0m \u001b[0mself\u001b[0m\u001b[0;34m.\u001b[0m\u001b[0mdataLim\u001b[0m\u001b[0;34m.\u001b[0m\u001b[0;34m\u001b[0m\u001b[0m\n\u001b[1;32m   1814\u001b[0m         \"\"\"\n\u001b[0;32m-> 1815\u001b[0;31m         \u001b[0mpath\u001b[0m \u001b[0;34m=\u001b[0m \u001b[0mline\u001b[0m\u001b[0;34m.\u001b[0m\u001b[0mget_path\u001b[0m\u001b[0;34m(\u001b[0m\u001b[0;34m)\u001b[0m\u001b[0;34m\u001b[0m\u001b[0m\n\u001b[0m\u001b[1;32m   1816\u001b[0m         \u001b[0;32mif\u001b[0m \u001b[0mpath\u001b[0m\u001b[0;34m.\u001b[0m\u001b[0mvertices\u001b[0m\u001b[0;34m.\u001b[0m\u001b[0msize\u001b[0m \u001b[0;34m==\u001b[0m \u001b[0;36m0\u001b[0m\u001b[0;34m:\u001b[0m\u001b[0;34m\u001b[0m\u001b[0m\n\u001b[1;32m   1817\u001b[0m             \u001b[0;32mreturn\u001b[0m\u001b[0;34m\u001b[0m\u001b[0m\n",
      "\u001b[0;32m/ext/anaconda3/lib/python3.5/site-packages/matplotlib/lines.py\u001b[0m in \u001b[0;36mget_path\u001b[0;34m(self)\u001b[0m\n\u001b[1;32m    987\u001b[0m         \"\"\"\n\u001b[1;32m    988\u001b[0m         \u001b[0;32mif\u001b[0m \u001b[0mself\u001b[0m\u001b[0;34m.\u001b[0m\u001b[0m_invalidy\u001b[0m \u001b[0;32mor\u001b[0m \u001b[0mself\u001b[0m\u001b[0;34m.\u001b[0m\u001b[0m_invalidx\u001b[0m\u001b[0;34m:\u001b[0m\u001b[0;34m\u001b[0m\u001b[0m\n\u001b[0;32m--> 989\u001b[0;31m             \u001b[0mself\u001b[0m\u001b[0;34m.\u001b[0m\u001b[0mrecache\u001b[0m\u001b[0;34m(\u001b[0m\u001b[0;34m)\u001b[0m\u001b[0;34m\u001b[0m\u001b[0m\n\u001b[0m\u001b[1;32m    990\u001b[0m         \u001b[0;32mreturn\u001b[0m \u001b[0mself\u001b[0m\u001b[0;34m.\u001b[0m\u001b[0m_path\u001b[0m\u001b[0;34m\u001b[0m\u001b[0m\n\u001b[1;32m    991\u001b[0m \u001b[0;34m\u001b[0m\u001b[0m\n",
      "\u001b[0;32m/ext/anaconda3/lib/python3.5/site-packages/matplotlib/lines.py\u001b[0m in \u001b[0;36mrecache\u001b[0;34m(self, always)\u001b[0m\n\u001b[1;32m    674\u001b[0m                 \u001b[0mx\u001b[0m \u001b[0;34m=\u001b[0m \u001b[0mma\u001b[0m\u001b[0;34m.\u001b[0m\u001b[0masarray\u001b[0m\u001b[0;34m(\u001b[0m\u001b[0mxconv\u001b[0m\u001b[0;34m,\u001b[0m \u001b[0mnp\u001b[0m\u001b[0;34m.\u001b[0m\u001b[0mfloat_\u001b[0m\u001b[0;34m)\u001b[0m\u001b[0;34m.\u001b[0m\u001b[0mfilled\u001b[0m\u001b[0;34m(\u001b[0m\u001b[0mnp\u001b[0m\u001b[0;34m.\u001b[0m\u001b[0mnan\u001b[0m\u001b[0;34m)\u001b[0m\u001b[0;34m\u001b[0m\u001b[0m\n\u001b[1;32m    675\u001b[0m             \u001b[0;32melse\u001b[0m\u001b[0;34m:\u001b[0m\u001b[0;34m\u001b[0m\u001b[0m\n\u001b[0;32m--> 676\u001b[0;31m                 \u001b[0mx\u001b[0m \u001b[0;34m=\u001b[0m \u001b[0mnp\u001b[0m\u001b[0;34m.\u001b[0m\u001b[0masarray\u001b[0m\u001b[0;34m(\u001b[0m\u001b[0mxconv\u001b[0m\u001b[0;34m,\u001b[0m \u001b[0mnp\u001b[0m\u001b[0;34m.\u001b[0m\u001b[0mfloat_\u001b[0m\u001b[0;34m)\u001b[0m\u001b[0;34m\u001b[0m\u001b[0m\n\u001b[0m\u001b[1;32m    677\u001b[0m             \u001b[0mx\u001b[0m \u001b[0;34m=\u001b[0m \u001b[0mx\u001b[0m\u001b[0;34m.\u001b[0m\u001b[0mravel\u001b[0m\u001b[0;34m(\u001b[0m\u001b[0;34m)\u001b[0m\u001b[0;34m\u001b[0m\u001b[0m\n\u001b[1;32m    678\u001b[0m         \u001b[0;32melse\u001b[0m\u001b[0;34m:\u001b[0m\u001b[0;34m\u001b[0m\u001b[0m\n",
      "\u001b[0;32m/ext/anaconda3/lib/python3.5/site-packages/numpy/core/numeric.py\u001b[0m in \u001b[0;36masarray\u001b[0;34m(a, dtype, order)\u001b[0m\n\u001b[1;32m    480\u001b[0m \u001b[0;34m\u001b[0m\u001b[0m\n\u001b[1;32m    481\u001b[0m     \"\"\"\n\u001b[0;32m--> 482\u001b[0;31m     \u001b[0;32mreturn\u001b[0m \u001b[0marray\u001b[0m\u001b[0;34m(\u001b[0m\u001b[0ma\u001b[0m\u001b[0;34m,\u001b[0m \u001b[0mdtype\u001b[0m\u001b[0;34m,\u001b[0m \u001b[0mcopy\u001b[0m\u001b[0;34m=\u001b[0m\u001b[0;32mFalse\u001b[0m\u001b[0;34m,\u001b[0m \u001b[0morder\u001b[0m\u001b[0;34m=\u001b[0m\u001b[0morder\u001b[0m\u001b[0;34m)\u001b[0m\u001b[0;34m\u001b[0m\u001b[0m\n\u001b[0m\u001b[1;32m    483\u001b[0m \u001b[0;34m\u001b[0m\u001b[0m\n\u001b[1;32m    484\u001b[0m \u001b[0;32mdef\u001b[0m \u001b[0masanyarray\u001b[0m\u001b[0;34m(\u001b[0m\u001b[0ma\u001b[0m\u001b[0;34m,\u001b[0m \u001b[0mdtype\u001b[0m\u001b[0;34m=\u001b[0m\u001b[0;32mNone\u001b[0m\u001b[0;34m,\u001b[0m \u001b[0morder\u001b[0m\u001b[0;34m=\u001b[0m\u001b[0;32mNone\u001b[0m\u001b[0;34m)\u001b[0m\u001b[0;34m:\u001b[0m\u001b[0;34m\u001b[0m\u001b[0m\n",
      "\u001b[0;31mTypeError\u001b[0m: can't convert complex to float"
     ]
    },
    {
     "data": {
      "image/png": "[encoded data removed]"
     },
     "execution_count": 8,
     "metadata": {
     },
     "output_type": "execute_result"
    }
   ],
   "source": [
    "fig = plt.figure(1)\n",
    "plt.plot(myPlane.getPlane())\n",
    "plt.show(fig)"
   ]
  },
  {
   "cell_type": "code",
   "execution_count": 0,
   "metadata": {
    "collapsed": false
   },
   "outputs": [
   ],
   "source": [
   ]
  }
 ],
 "metadata": {
  "kernelspec": {
   "display_name": "Python 3 (Anaconda)",
   "language": "python",
   "name": "anaconda3"
  },
  "language_info": {
   "codemirror_mode": {
    "name": "ipython",
    "version": 3
   },
   "file_extension": ".py",
   "mimetype": "text/x-python",
   "name": "python",
   "nbconvert_exporter": "python",
   "pygments_lexer": "ipython3",
   "version": "3.5.4"
  }
 },
 "nbformat": 4,
 "nbformat_minor": 0
}