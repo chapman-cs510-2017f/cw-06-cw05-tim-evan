{
 "cells": [
  {
   "cell_type": "code",
   "execution_count": 3,
   "metadata": {
    "collapsed": false
   },
   "outputs": [
   ],
   "source": [
    "import cplane_np as cp"
   ]
  },
  {
   "cell_type": "markdown",
   "metadata": {
    "collapsed": false
   },
   "source": [
    "# Cplane_np.py Demonstration"
   ]
  },
  {
   "cell_type": "code",
   "execution_count": 14,
   "metadata": {
    "collapsed": false
   },
   "outputs": [
    {
     "name": "stdout",
     "output_type": "stream",
     "text": [
      "########################################-Complex Plane-######################################## \n",
      "\n",
      "        -4.0     -3.0     -2.0     -1.0   0.0     1.0     2.0     3.0     4.0\n",
      "4j   (-4+4j)  (-3+4j)  (-2+4j)  (-1+4j)    4j  (1+4j)  (2+4j)  (3+4j)  (4+4j)\n",
      "3j   (-4+3j)  (-3+3j)  (-2+3j)  (-1+3j)    3j  (1+3j)  (2+3j)  (3+3j)  (4+3j)\n",
      "2j   (-4+2j)  (-3+2j)  (-2+2j)  (-1+2j)    2j  (1+2j)  (2+2j)  (3+2j)  (4+2j)\n",
      "1j   (-4+1j)  (-3+1j)  (-2+1j)  (-1+1j)    1j  (1+1j)  (2+1j)  (3+1j)  (4+1j)\n",
      "0j   (-4+0j)  (-3+0j)  (-2+0j)  (-1+0j)    0j  (1+0j)  (2+0j)  (3+0j)  (4+0j)\n",
      "-1j  (-4-1j)  (-3-1j)  (-2-1j)  (-1-1j)   -1j  (1-1j)  (2-1j)  (3-1j)  (4-1j)\n",
      "-2j  (-4-2j)  (-3-2j)  (-2-2j)  (-1-2j)   -2j  (1-2j)  (2-2j)  (3-2j)  (4-2j)\n",
      "-3j  (-4-3j)  (-3-3j)  (-2-3j)  (-1-3j)   -3j  (1-3j)  (2-3j)  (3-3j)  (4-3j)\n",
      "-4j  (-4-4j)  (-3-4j)  (-2-4j)  (-1-4j)   -4j  (1-4j)  (2-4j)  (3-4j)  (4-4j) \n",
      "\n",
      "############################################################################################### \n",
      "\n"
     ]
    }
   ],
   "source": [
    "myPlane = cp.ArrayComplexPlane(-4,4,9,-4,4,9)\n",
    "myPlane.printPlane()"
   ]
  },
  {
   "cell_type": "markdown",
   "metadata": {
    "collapsed": false
   },
   "source": [
    "In the above code, we created the ArrayComplexPlane(xmin,xmax,xlen,ymin,ymax,ylen) object, setting arbituary Plane specifications. in this case, we set it range and domain to\n",
    "    $$ -4 \\ge x \\ge 4 $$\n",
    "    $$ -4 \\ge y \\ge 4 $$\n",
    "with a step sixe of 1 (since the domain spans over 9 integers and xlen = 9 => 9/9 = 1 = step size, symmetric for y step size)"
   ]
  },
  {
   "cell_type": "code",
   "execution_count": 15,
   "metadata": {
    "collapsed": false
   },
   "outputs": [
    {
     "name": "stdout",
     "output_type": "stream",
     "text": [
      "APPLY f() TO PLANE\n",
      "########################################-Complex Plane-######################################## \n",
      "\n",
      "         -4.0      -3.0       -2.0      -1.0       0.0       1.0        2.0  \\\n",
      "4j       -32j  (-7-24j)  (-12-16j)  (-15-8j)  (-16+0j)  (-15+8j)  (-12+16j)   \n",
      "3j    (7-24j)      -18j   (-5-12j)   (-8-6j)   (-9+0j)   (-8+6j)   (-5+12j)   \n",
      "2j   (12-16j)   (5-12j)        -8j   (-3-4j)   (-4+0j)   (-3+4j)         8j   \n",
      "1j    (15-8j)    (8-6j)     (3-4j)       -2j   (-1+0j)        2j     (3+4j)   \n",
      "0j    (16-0j)    (9-0j)     (4-0j)    (1-0j)        0j    (1+0j)     (4+0j)   \n",
      "-1j   (15+8j)    (8+6j)     (3+4j)        2j   (-1-0j)       -2j     (3-4j)   \n",
      "-2j  (12+16j)   (5+12j)         8j   (-3+4j)   (-4-0j)   (-3-4j)        -8j   \n",
      "-3j   (7+24j)       18j   (-5+12j)   (-8+6j)   (-9-0j)   (-8-6j)   (-5-12j)   \n",
      "-4j       32j  (-7+24j)  (-12+16j)  (-15+8j)  (-16-0j)  (-15-8j)  (-12-16j)   \n",
      "\n",
      "          3.0       4.0  \n",
      "4j   (-7+24j)       32j  \n",
      "3j        18j   (7+24j)  \n",
      "2j    (5+12j)  (12+16j)  \n",
      "1j     (8+6j)   (15+8j)  \n",
      "0j     (9+0j)   (16+0j)  \n",
      "-1j    (8-6j)   (15-8j)  \n",
      "-2j   (5-12j)  (12-16j)  \n",
      "-3j      -18j   (7-24j)  \n",
      "-4j  (-7-24j)      -32j   \n",
      "\n",
      "############################################################################################### \n",
      "\n"
     ]
    }
   ],
   "source": [
    "def f(x):\n",
    "    return x*x\n",
    "\n",
    "myPlane.apply(f,True)\n",
    "print(\"APPLY f() TO PLANE\")\n",
    "myPlane.printPlane()"
   ]
  },
  {
   "cell_type": "markdown",
   "metadata": {
    "collapsed": false
   },
   "source": [
    "in the above code block, we applied f(x) to the plane from the previous example. in this specific case,\n",
    "     $$ f(x) = x^{2} $$\n",
    "to test whether or not this table is the true transformation, lets take element $ -4 + 4j $ from the Plane before the transformation, we see that $ -32j $ is the transformed value in the plane printed above. so\n",
    "$$ (-4 + 4j)^2 = 16 - 16j - 16j + 16j^2 = -32j $$\n",
    "so the transformation f on the complex plane is working correctly"
   ]
  },
  {
   "cell_type": "code",
   "execution_count": 16,
   "metadata": {
    "collapsed": false
   },
   "outputs": [
    {
     "name": "stdout",
     "output_type": "stream",
     "text": [
      "ZOOMED PLANE\n",
      "########################################-Complex Plane-######################################## \n",
      "\n",
      "       -2.0     -1.0      0.0      1.0     2.0\n",
      "2j      -8j  (-3-4j)  (-4+0j)  (-3+4j)      8j\n",
      "1j   (3-4j)      -2j  (-1+0j)       2j  (3+4j)\n",
      "0j   (4-0j)   (1-0j)       0j   (1+0j)  (4+0j)\n",
      "-1j  (3+4j)       2j  (-1-0j)      -2j  (3-4j)\n",
      "-2j      8j  (-3+4j)  (-4-0j)  (-3-4j)     -8j \n",
      "\n",
      "############################################################################################### \n",
      "\n"
     ]
    }
   ],
   "source": [
    "myPlane.zoom(-2,2,5,-2,2,5)\n",
    "print(\"ZOOMED PLANE\")\n",
    "myPlane.printPlane()"
   ]
  },
  {
   "cell_type": "markdown",
   "metadata": {
    "collapsed": false
   },
   "source": [
    "ater zoom(xmin,xmax,xlen,ymin,ymax,ylen) is applied to the plane, the private attributes of plane are changed to the input values in zoom. All f in fs are then re-applied to the plane, as you can see, the values at each point remain the same relative to the previous example where f was applied to the plane."
   ]
  },
  {
   "cell_type": "code",
   "execution_count": 17,
   "metadata": {
    "collapsed": false
   },
   "outputs": [
    {
     "name": "stdout",
     "output_type": "stream",
     "text": [
      "REFRESHED PLANE\n",
      "########################################-Complex Plane-######################################## \n",
      "\n",
      "        -2.0     -1.0   0.0     1.0     2.0\n",
      "2j   (-2+2j)  (-1+2j)    2j  (1+2j)  (2+2j)\n",
      "1j   (-2+1j)  (-1+1j)    1j  (1+1j)  (2+1j)\n",
      "0j   (-2+0j)  (-1+0j)    0j  (1+0j)  (2+0j)\n",
      "-1j  (-2-1j)  (-1-1j)   -1j  (1-1j)  (2-1j)\n",
      "-2j  (-2-2j)  (-1-2j)   -2j  (1-2j)  (2-2j) \n",
      "\n",
      "############################################################################################### \n",
      "\n"
     ]
    }
   ],
   "source": [
    "myPlane.refresh()\n",
    "print(\"REFRESHED PLANE\")\n",
    "myPlane.printPlane()"
   ]
  },
  {
   "cell_type": "markdown",
   "metadata": {
    "collapsed": false
   },
   "source": [
    "after refresh() is applied to the plane, we see it reverts back to its original state from the first example, but still zoomed in. the method refresh() resets all args and clears fs, so that there are no functions acting on the plane."
   ]
  }
 ],
 "metadata": {
  "kernelspec": {
   "display_name": "Python 3 (Anaconda)",
   "language": "python",
   "name": "anaconda3"
  },
  "language_info": {
   "codemirror_mode": {
    "name": "ipython",
    "version": 3
   },
   "file_extension": ".py",
   "mimetype": "text/x-python",
   "name": "python",
   "nbconvert_exporter": "python",
   "pygments_lexer": "ipython3",
   "version": "3.5.4"
  }
 },
 "nbformat": 4,
 "nbformat_minor": 0
}